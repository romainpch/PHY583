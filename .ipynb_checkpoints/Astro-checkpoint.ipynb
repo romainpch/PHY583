{
 "cells": [
  {
   "cell_type": "code",
   "execution_count": 31,
   "id": "spread-quality",
   "metadata": {},
   "outputs": [],
   "source": [
    "import numpy as np\n",
    "import matplotlib.pyplot as plt\n",
    "from math import pi, sqrt\n",
    "from scipy.integrate import odeint"
   ]
  },
  {
   "cell_type": "code",
   "execution_count": 32,
   "id": "vital-million",
   "metadata": {},
   "outputs": [],
   "source": [
    "#Constantes physiques\n",
    "c = 3.e+8           #Vitesse de la lumière \n",
    "M_sun = 1.989e+30   #Masse du Soleil\n",
    "sigma = 5.67e-8     #constante de Stefan\n",
    "a = 4*sigma/c\n",
    "\n",
    "A = 6.6e+42\n",
    "alpha = 1.3\n",
    "\n",
    "#Fonctions de conversion utiles\n",
    "def s2day(t) :\n",
    "    '''Conversion de t en seconde vers t en jours'''\n",
    "    return t/(3600*24)\n",
    "\n",
    "def s2year(t) :\n",
    "    '''Conversion de t en seconde vers t en années'''\n",
    "    return t/(3600*24*365)"
   ]
  },
  {
   "cell_type": "code",
   "execution_count": 33,
   "id": "recent-probability",
   "metadata": {},
   "outputs": [],
   "source": [
    "#Constantes du problème : Les unités sont dans le système S.I.\n",
    "M_ej = 1.e-2*M_sun  #Masse éjectée\n",
    "v_exp = 0.15*c      #Vitesse d'expension \n",
    "R_0 = 1.e+4         #Rayon initial\n",
    "kappa = 0.5         #Opacité"
   ]
  },
  {
   "cell_type": "code",
   "execution_count": 34,
   "id": "acute-prompt",
   "metadata": {},
   "outputs": [
    {
     "name": "stdout",
     "output_type": "stream",
     "text": [
      "Constantes de temps du probleme :\n",
      "t* = 4.19e+05 s = 4.85 days\n",
      "t_neb = 1.08e+06 s = 12.53 days\n"
     ]
    }
   ],
   "source": [
    "#Calcul des temps caractéristiques\n",
    "t_star = sqrt(3*M_ej*kappa/(4*pi*c*v_exp))\n",
    "R_neb = sqrt(3*M_ej*kappa/(4*pi))\n",
    "t_neb = R_neb/v_exp\n",
    "\n",
    "print(\"Constantes de temps du probleme :\")\n",
    "print(\"t* = \" + str(\"%.2e\"%t_star) + \" s = \" + str(\"%.2f\"%s2day(t_star)) + \" days\")\n",
    "print(\"t_neb = \" + str(\"%.2e\"%t_neb) + \" s = \" + str(\"%.2f\"%s2day(t_neb)) + \" days\")"
   ]
  },
  {
   "cell_type": "code",
   "execution_count": 35,
   "id": "norwegian-tractor",
   "metadata": {},
   "outputs": [],
   "source": [
    "def R(t) :\n",
    "    return v_exp*t \n",
    "\n",
    "def P(t) :\n",
    "    return a*T(t)/3\n",
    "\n",
    "def U(t) : \n",
    "    return 4*pi*a*pow(R(t),3)*pow(T(t),4)/3\n",
    "\n",
    "def Ts(t) :\n",
    "    return \n",
    "    \n",
    "def L(t) :\n",
    "    return 4*pi*pow(R(t),2)*sigma*pow(Ts(t),4)\n",
    "\n",
    "def E_dot(t) :\n",
    "    return A*M_ej*pow(t,-alpha)"
   ]
  },
  {
   "cell_type": "markdown",
   "id": "national-double",
   "metadata": {},
   "source": [
    "### Equation d'évolution de l'ejecta dans la phase d'expansion libre : \n",
    "L'équation à résoudre est :\n",
    "\n",
    "$t_{rad}\\frac{dL}{dt} + L(t) = \\dot E(t)$\n",
    "\n",
    "Nous utiliserons odeint de numpy pour sa résolution numérique."
   ]
  },
  {
   "cell_type": "code",
   "execution_count": 41,
   "id": "written-rhythm",
   "metadata": {},
   "outputs": [
    {
     "ename": "TypeError",
     "evalue": "'numpy.ndarray' object is not callable",
     "output_type": "error",
     "traceback": [
      "\u001b[0;31m---------------------------------------------------------------------------\u001b[0m",
      "\u001b[0;31mTypeError\u001b[0m                                 Traceback (most recent call last)",
      "\u001b[0;32m<ipython-input-41-7604fe35d889>\u001b[0m in \u001b[0;36m<module>\u001b[0;34m\u001b[0m\n\u001b[1;32m      5\u001b[0m \u001b[0mt\u001b[0m \u001b[0;34m=\u001b[0m \u001b[0mnp\u001b[0m\u001b[0;34m.\u001b[0m\u001b[0mlinspace\u001b[0m\u001b[0;34m(\u001b[0m\u001b[0;36m0.1\u001b[0m\u001b[0;34m,\u001b[0m\u001b[0mint\u001b[0m\u001b[0;34m(\u001b[0m\u001b[0mt_neb\u001b[0m\u001b[0;34m)\u001b[0m\u001b[0;34m,\u001b[0m \u001b[0mnum\u001b[0m\u001b[0;34m=\u001b[0m\u001b[0;36m10000\u001b[0m\u001b[0;34m)\u001b[0m\u001b[0;34m\u001b[0m\u001b[0;34m\u001b[0m\u001b[0m\n\u001b[1;32m      6\u001b[0m \u001b[0mL0\u001b[0m \u001b[0;34m=\u001b[0m \u001b[0;36m0\u001b[0m\u001b[0;34m\u001b[0m\u001b[0;34m\u001b[0m\u001b[0m\n\u001b[0;32m----> 7\u001b[0;31m \u001b[0mL\u001b[0m \u001b[0;34m=\u001b[0m \u001b[0modeint\u001b[0m\u001b[0;34m(\u001b[0m\u001b[0mmodel\u001b[0m\u001b[0;34m,\u001b[0m \u001b[0mL0\u001b[0m\u001b[0;34m,\u001b[0m \u001b[0mt\u001b[0m\u001b[0;34m)\u001b[0m\u001b[0;34m\u001b[0m\u001b[0;34m\u001b[0m\u001b[0m\n\u001b[0m",
      "\u001b[0;32m/usr/local/lib/python3.9/site-packages/scipy/integrate/odepack.py\u001b[0m in \u001b[0;36modeint\u001b[0;34m(func, y0, t, args, Dfun, col_deriv, full_output, ml, mu, rtol, atol, tcrit, h0, hmax, hmin, ixpr, mxstep, mxhnil, mxordn, mxords, printmessg, tfirst)\u001b[0m\n\u001b[1;32m    239\u001b[0m     \u001b[0mt\u001b[0m \u001b[0;34m=\u001b[0m \u001b[0mcopy\u001b[0m\u001b[0;34m(\u001b[0m\u001b[0mt\u001b[0m\u001b[0;34m)\u001b[0m\u001b[0;34m\u001b[0m\u001b[0;34m\u001b[0m\u001b[0m\n\u001b[1;32m    240\u001b[0m     \u001b[0my0\u001b[0m \u001b[0;34m=\u001b[0m \u001b[0mcopy\u001b[0m\u001b[0;34m(\u001b[0m\u001b[0my0\u001b[0m\u001b[0;34m)\u001b[0m\u001b[0;34m\u001b[0m\u001b[0;34m\u001b[0m\u001b[0m\n\u001b[0;32m--> 241\u001b[0;31m     output = _odepack.odeint(func, y0, t, args, Dfun, col_deriv, ml, mu,\n\u001b[0m\u001b[1;32m    242\u001b[0m                              \u001b[0mfull_output\u001b[0m\u001b[0;34m,\u001b[0m \u001b[0mrtol\u001b[0m\u001b[0;34m,\u001b[0m \u001b[0matol\u001b[0m\u001b[0;34m,\u001b[0m \u001b[0mtcrit\u001b[0m\u001b[0;34m,\u001b[0m \u001b[0mh0\u001b[0m\u001b[0;34m,\u001b[0m \u001b[0mhmax\u001b[0m\u001b[0;34m,\u001b[0m \u001b[0mhmin\u001b[0m\u001b[0;34m,\u001b[0m\u001b[0;34m\u001b[0m\u001b[0;34m\u001b[0m\u001b[0m\n\u001b[1;32m    243\u001b[0m                              \u001b[0mixpr\u001b[0m\u001b[0;34m,\u001b[0m \u001b[0mmxstep\u001b[0m\u001b[0;34m,\u001b[0m \u001b[0mmxhnil\u001b[0m\u001b[0;34m,\u001b[0m \u001b[0mmxordn\u001b[0m\u001b[0;34m,\u001b[0m \u001b[0mmxords\u001b[0m\u001b[0;34m,\u001b[0m\u001b[0;34m\u001b[0m\u001b[0;34m\u001b[0m\u001b[0m\n",
      "\u001b[0;32m<ipython-input-41-7604fe35d889>\u001b[0m in \u001b[0;36mmodel\u001b[0;34m(L, t)\u001b[0m\n\u001b[1;32m      1\u001b[0m \u001b[0;32mdef\u001b[0m \u001b[0mmodel\u001b[0m\u001b[0;34m(\u001b[0m\u001b[0mL\u001b[0m\u001b[0;34m,\u001b[0m\u001b[0mt\u001b[0m\u001b[0;34m)\u001b[0m \u001b[0;34m:\u001b[0m\u001b[0;34m\u001b[0m\u001b[0;34m\u001b[0m\u001b[0m\n\u001b[0;32m----> 2\u001b[0;31m     \u001b[0mdLdt\u001b[0m \u001b[0;34m=\u001b[0m \u001b[0;34m(\u001b[0m\u001b[0mA\u001b[0m\u001b[0;34m*\u001b[0m\u001b[0mM_ej\u001b[0m\u001b[0;34m*\u001b[0m\u001b[0mpow\u001b[0m\u001b[0;34m(\u001b[0m\u001b[0mt\u001b[0m\u001b[0;34m,\u001b[0m\u001b[0;34m-\u001b[0m\u001b[0malpha\u001b[0m\u001b[0;34m)\u001b[0m \u001b[0;34m-\u001b[0m \u001b[0mL\u001b[0m\u001b[0;34m(\u001b[0m\u001b[0mt\u001b[0m\u001b[0;34m)\u001b[0m\u001b[0;34m)\u001b[0m\u001b[0;34m/\u001b[0m\u001b[0mt\u001b[0m\u001b[0;34m\u001b[0m\u001b[0;34m\u001b[0m\u001b[0m\n\u001b[0m\u001b[1;32m      3\u001b[0m     \u001b[0;32mreturn\u001b[0m \u001b[0mdLdt\u001b[0m\u001b[0;34m\u001b[0m\u001b[0;34m\u001b[0m\u001b[0m\n\u001b[1;32m      4\u001b[0m \u001b[0;34m\u001b[0m\u001b[0m\n\u001b[1;32m      5\u001b[0m \u001b[0mt\u001b[0m \u001b[0;34m=\u001b[0m \u001b[0mnp\u001b[0m\u001b[0;34m.\u001b[0m\u001b[0mlinspace\u001b[0m\u001b[0;34m(\u001b[0m\u001b[0;36m0.1\u001b[0m\u001b[0;34m,\u001b[0m\u001b[0mint\u001b[0m\u001b[0;34m(\u001b[0m\u001b[0mt_neb\u001b[0m\u001b[0;34m)\u001b[0m\u001b[0;34m,\u001b[0m \u001b[0mnum\u001b[0m\u001b[0;34m=\u001b[0m\u001b[0;36m10000\u001b[0m\u001b[0;34m)\u001b[0m\u001b[0;34m\u001b[0m\u001b[0;34m\u001b[0m\u001b[0m\n",
      "\u001b[0;31mTypeError\u001b[0m: 'numpy.ndarray' object is not callable"
     ]
    }
   ],
   "source": [
    "def model(L,t) :\n",
    "    dLdt = (E_dot(t) - L(t))/t\n",
    "    return dLdt\n",
    "\n",
    "t = np.linspace(0.1,int(t_neb), num=10000)\n",
    "L0 = 0\n",
    "L = odeint(model, L0, t)"
   ]
  },
  {
   "cell_type": "code",
   "execution_count": 39,
   "id": "combined-custody",
   "metadata": {},
   "outputs": [
    {
     "data": {
      "text/plain": [
       "1082793"
      ]
     },
     "execution_count": 39,
     "metadata": {},
     "output_type": "execute_result"
    }
   ],
   "source": []
  },
  {
   "cell_type": "code",
   "execution_count": null,
   "id": "chubby-roller",
   "metadata": {},
   "outputs": [],
   "source": []
  },
  {
   "cell_type": "code",
   "execution_count": null,
   "id": "emotional-dispatch",
   "metadata": {},
   "outputs": [],
   "source": []
  }
 ],
 "metadata": {
  "kernelspec": {
   "display_name": "Python 3",
   "language": "python",
   "name": "python3"
  },
  "language_info": {
   "codemirror_mode": {
    "name": "ipython",
    "version": 3
   },
   "file_extension": ".py",
   "mimetype": "text/x-python",
   "name": "python",
   "nbconvert_exporter": "python",
   "pygments_lexer": "ipython3",
   "version": "3.9.1"
  }
 },
 "nbformat": 4,
 "nbformat_minor": 5
}
