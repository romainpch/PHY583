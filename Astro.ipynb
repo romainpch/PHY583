{
 "cells": [
  {
   "cell_type": "code",
   "execution_count": 1,
   "id": "spread-quality",
   "metadata": {},
   "outputs": [],
   "source": [
    "import numpy as np\n",
    "import matplotlib.pyplot as plt\n",
    "from math import pi, sqrt\n",
    "from scipy.integrate import odeint\n",
    "\n",
    "#Test de push\n",
    "\n",
    "#Fonctions de conversion utiles\n",
    "def s2day(t) :\n",
    "    '''Conversion de t en seconde vers t en jours'''\n",
    "    return t/(3600*24)\n",
    "\n",
    "def s2year(t) :\n",
    "    '''Conversion de t en seconde vers t en années'''\n",
    "    return t/(3600*24*365)"
   ]
  },
  {
   "cell_type": "code",
   "execution_count": 2,
   "id": "rural-generic",
   "metadata": {},
   "outputs": [],
   "source": [
    "#Constantes physiques\n",
    "c = 3.e+8           #Vitesse de la lumière \n",
    "sigma = 5.67e-8     #constante de Stefan\n",
    "a = 4*sigma/c\n",
    "\n",
    "#Constantes pour le soleil\n",
    "M_sun = 1.989e+30\n",
    "R_sun = 696340e+3\n",
    "L_sun = 3.827e+26\n",
    "\n",
    "\n",
    "#Paramètre pour le terme de chauffage\n",
    "A = 6.6e+42/M_sun   \n",
    "alpha = 1.3"
   ]
  },
  {
   "cell_type": "code",
   "execution_count": 3,
   "id": "creative-complex",
   "metadata": {},
   "outputs": [],
   "source": [
    "#Constantes du problème\n",
    "M_ej = 1.e-2*M_sun  #Masse éjectée\n",
    "v_exp = 0.15*c      #Vitesse d'expension \n",
    "R_0 = 1.e+4         #Rayon initial\n",
    "kappa = 0.5         #Opacité"
   ]
  },
  {
   "cell_type": "code",
   "execution_count": 4,
   "id": "acute-prompt",
   "metadata": {},
   "outputs": [
    {
     "name": "stdout",
     "output_type": "stream",
     "text": [
      "Constantes caractéristiques du probleme :\n",
      "t* = 4.19e+05 s = 4.85 jours\n",
      "t_neb = 1.08e+06 s = 12.53 jours\n",
      "R_neb = 4.87e+13 m = 69974.01 Rayons solaire\n"
     ]
    }
   ],
   "source": [
    "#Calcul des temps et longueurs caractéristiques\n",
    "t_star = sqrt(3*M_ej*kappa/(4*pi*c*v_exp))\n",
    "R_neb = sqrt(3*M_ej*kappa/(4*pi))\n",
    "t_neb = R_neb/v_exp\n",
    "\n",
    "print(\"Constantes caractéristiques du probleme :\")\n",
    "print(\"t* = \" + str(\"%.2e\"%t_star) + \" s = \" + str(\"%.2f\"%s2day(t_star)) + \" jours\")\n",
    "print(\"t_neb = \" + str(\"%.2e\"%t_neb) + \" s = \" + str(\"%.2f\"%s2day(t_neb)) + \" jours\")\n",
    "print(\"R_neb = \" + str(\"%.2e\"%R_neb) + \" m = \" + str(\"%.2f\"%(R_neb/R_sun)) + \" Rayons solaire\")"
   ]
  },
  {
   "cell_type": "code",
   "execution_count": 5,
   "id": "norwegian-tractor",
   "metadata": {},
   "outputs": [],
   "source": [
    "def R(t) :\n",
    "    return v_exp*t \n",
    "\n",
    "def P(t) :\n",
    "    return a*T(t)/3\n",
    "\n",
    "def U(t) : \n",
    "    return 4*pi*a*pow(R(t),3)*pow(T(t),4)/3\n",
    "\n",
    "def Ts(t) :\n",
    "    return \n",
    "    \n",
    "def L(t) :\n",
    "    return 4*pi*pow(R(t),2)*sigma*pow(Ts(t),4)\n",
    "\n",
    "def E_dot(t) :\n",
    "    return A*M_ej*pow(t,-alpha)"
   ]
  },
  {
   "cell_type": "markdown",
   "id": "empty-portable",
   "metadata": {},
   "source": [
    "### Equation d'évolution de l'ejecta dans la phase d'expansion libre : \n",
    "L'équation à résoudre est :\n",
    "\n",
    "$t_{rad}\\frac{dL}{dt} + L(t) = \\dot E(t)$\n",
    "\n",
    "Nous utiliserons odeint de numpy pour sa résolution numérique."
   ]
  },
  {
   "cell_type": "code",
   "execution_count": 20,
   "id": "written-rhythm",
   "metadata": {},
   "outputs": [
    {
     "data": {
      "text/plain": [
       "Text(13, 40000.0, '$t_{neb}$')"
      ]
     },
     "execution_count": 20,
     "metadata": {},
     "output_type": "execute_result"
    },
    {
     "data": {
      "image/png": "[encoded data removed]",
      "text/plain": [
       "<Figure size 720x576 with 1 Axes>"
      ]
     },
     "metadata": {
      "needs_background": "light"
     },
     "output_type": "display_data"
    }
   ],
   "source": [
    "def model(L,t) :\n",
    "    dLdt = (E_dot(t)-L)*t/pow(t_star,2)\n",
    "    return dLdt\n",
    "\n",
    "Nlim = 7550\n",
    "t = np.linspace(1.e-6, 1.3*int(t_neb), num=10000)\n",
    "L0 = 0\n",
    "L = odeint(model, L0, t)\n",
    "\n",
    "plt.figure(figsize=[10,8])\n",
    "plt.yscale('log')\n",
    "plt.xlabel('temps (days)')\n",
    "plt.ylabel('$L/L_{\\odot }$')\n",
    "plt.axvline(x=s2day(t_star),color='gray',linestyle='--',label='$t_{*}$')\n",
    "plt.axvline(x=s2day(t_neb),color='gray',linestyle='--',label='$t_{neb}$')\n",
    "plt.plot(s2day(t[:Nlim]),L[:Nlim]/L_sun,color='orange')\n",
    "plt.legend(loc=\"lower right\")\n",
    "plt.plot(s2day(t[Nlim:]),L[Nlim:]/L_sun,linestyle='--',color='orange')\n",
    "plt.text(int(s2day(t_star)),4.e+4,'$t_{*}$',fontsize=15)\n",
    "plt.text(int(s2day(t_neb)) + 1,4.e+4,'$t_{neb}$',fontsize=15)"
   ]
  },
  {
   "cell_type": "code",
   "execution_count": null,
   "id": "combined-custody",
   "metadata": {},
   "outputs": [],
   "source": []
  },
  {
   "cell_type": "code",
   "execution_count": null,
   "id": "featured-oklahoma",
   "metadata": {},
   "outputs": [],
   "source": []
  },
  {
   "cell_type": "code",
   "execution_count": null,
   "id": "opposed-auction",
   "metadata": {},
   "outputs": [],
   "source": []
  },
  {
   "cell_type": "code",
   "execution_count": null,
   "id": "bridal-thousand",
   "metadata": {},
   "outputs": [],
   "source": []
  }
 ],
 "metadata": {
  "kernelspec": {
   "display_name": "Python 3",
   "language": "python",
   "name": "python3"
  },
  "language_info": {
   "codemirror_mode": {
    "name": "ipython",
    "version": 3
   },
   "file_extension": ".py",
   "mimetype": "text/x-python",
   "name": "python",
   "nbconvert_exporter": "python",
   "pygments_lexer": "ipython3",
   "version": "3.9.1"
  }
 },
 "nbformat": 4,
 "nbformat_minor": 5
}